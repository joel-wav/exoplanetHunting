{
 "cells": [
  {
   "cell_type": "code",
   "execution_count": 78,
   "metadata": {},
   "outputs": [],
   "source": [
    "import numpy as np\n",
    "import pandas as pd\n",
    "import matplotlib.pyplot as plt\n",
    "import csv, os\n",
    "\n",
    "import tensorflow as tf\n",
    "from tensorflow import keras\n",
    "\n",
    "from tensorflow.keras.layers import Dense, Conv1D\n",
    "from tensorflow.keras.models import Sequential\n",
    "from keras.callbacks import ModelCheckpoint"
   ]
  },
  {
   "cell_type": "code",
   "execution_count": 79,
   "metadata": {},
   "outputs": [
    {
     "name": "stdout",
     "output_type": "stream",
     "text": [
      "(5087, 1)\n",
      "(570, 1)\n",
      "(5087, 3197)\n",
      "(570, 3197)\n"
     ]
    }
   ],
   "source": [
    "train = pd.read_csv(\"exoTrain.csv\")\n",
    "test = pd.read_csv(\"exoTest.csv\")\n",
    "\n",
    "y_train = train['LABEL']\n",
    "y_test = test['LABEL']\n",
    "del train['LABEL']\n",
    "del test['LABEL']\n",
    "\n",
    "# convert to numpy rep for keras\n",
    "x_train = train.values\n",
    "x_test = test.values \n",
    "y_train = y_train.values.reshape(-1,1)\n",
    "y_test = y_test.values.reshape(-1,1)\n",
    "\n",
    "# change labels: 2 => 1, 1 => 0\n",
    "y_train = y_train - 1\n",
    "y_test = y_test - 1\n",
    "\n",
    "print(y_train.shape)\n",
    "print(y_test.shape)\n",
    "print(x_train.shape)\n",
    "print(x_test.shape)"
   ]
  },
  {
   "cell_type": "code",
   "execution_count": 80,
   "metadata": {},
   "outputs": [
    {
     "data": {
      "text/plain": [
       "<matplotlib.collections.PathCollection at 0x289d8f6e9a0>"
      ]
     },
     "execution_count": 80,
     "metadata": {},
     "output_type": "execute_result"
    },
    {
     "data": {
      "image/png": "[encoded data removed]",
      "text/plain": [
       "<Figure size 432x288 with 4 Axes>"
      ]
     },
     "metadata": {
      "needs_background": "light"
     },
     "output_type": "display_data"
    }
   ],
   "source": [
    "x = np.arange(0, 3197, 1)\n",
    "fig, ax = plt.subplots(nrows=2, ncols=2)\n",
    "ax[0][0].scatter(x, x_train[0], s=1, c='black')\n",
    "ax[0][1].scatter(x, x_train[1], s=1, c='black')\n",
    "ax[1][0].scatter(x, x_train[38], s=1)\n",
    "ax[1][1].scatter(x, x_train[100], s=1)"
   ]
  },
  {
   "cell_type": "code",
   "execution_count": 81,
   "metadata": {},
   "outputs": [
    {
     "name": "stdout",
     "output_type": "stream",
     "text": [
      "Model: \"sequential_23\"\n",
      "_________________________________________________________________\n",
      " Layer (type)                Output Shape              Param #   \n",
      "=================================================================\n",
      " conv1d_35 (Conv1D)          (None, 3195, 32)          128       \n",
      "                                                                 \n",
      " conv1d_36 (Conv1D)          (None, 3193, 64)          6208      \n",
      "                                                                 \n",
      " dense_30 (Dense)            (None, 3193, 64)          4160      \n",
      "                                                                 \n",
      " dense_31 (Dense)            (None, 3193, 1)           65        \n",
      "                                                                 \n",
      "=================================================================\n",
      "Total params: 10,561\n",
      "Trainable params: 10,561\n",
      "Non-trainable params: 0\n",
      "_________________________________________________________________\n"
     ]
    }
   ],
   "source": [
    "model = Sequential()\n",
    "model.add(Conv1D(32, 3, activation='relu', input_shape=(3197,1)))\n",
    "model.add(Conv1D(64, 3, activation='relu'))\n",
    "model.add(Dense(64, activation='relu'))\n",
    "model.add(Dense(1, activation='sigmoid'))\n",
    "model.summary()\n",
    "\n",
    "model.compile(optimizer='adam', loss='binary_crossentropy', metrics=['accuracy'])"
   ]
  },
  {
   "cell_type": "code",
   "execution_count": 82,
   "metadata": {},
   "outputs": [
    {
     "name": "stdout",
     "output_type": "stream",
     "text": [
      "Epoch 1/2\n",
      "128/128 [==============================] - 28s 217ms/step - loss: 0.2405 - accuracy: 0.9669 - val_loss: 0.0127 - val_accuracy: 1.0000\n",
      "Epoch 2/2\n",
      "128/128 [==============================] - 27s 211ms/step - loss: 0.1369 - accuracy: 0.9909 - val_loss: 0.0098 - val_accuracy: 1.0000\n"
     ]
    }
   ],
   "source": [
    "training = model.fit(x_train, y_train, validation_split=0.2, epochs=2)"
   ]
  },
  {
   "cell_type": "code",
   "execution_count": 83,
   "metadata": {},
   "outputs": [
    {
     "name": "stdout",
     "output_type": "stream",
     "text": [
      "18/18 [==============================] - 1s 69ms/step - loss: 0.1338 - accuracy: 0.9912\n",
      "Test accuracy: 0.9912280440330505\n"
     ]
    }
   ],
   "source": [
    "score = model.evaluate(x_test, y_test)\n",
    "print('Test accuracy:', score[1])"
   ]
  }
 ],
 "metadata": {
  "interpreter": {
   "hash": "ac81dd28b25742b4a884ea6ee71296b40f33b9dfeca96ce2595bdd92274cb316"
  },
  "kernelspec": {
   "display_name": "Python 3.8.8 64-bit ('tfenv': venv)",
   "language": "python",
   "name": "python3"
  },
  "language_info": {
   "codemirror_mode": {
    "name": "ipython",
    "version": 3
   },
   "file_extension": ".py",
   "mimetype": "text/x-python",
   "name": "python",
   "nbconvert_exporter": "python",
   "pygments_lexer": "ipython3",
   "version": "3.8.8"
  },
  "orig_nbformat": 4
 },
 "nbformat": 4,
 "nbformat_minor": 2
}
